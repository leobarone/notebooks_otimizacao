{
 "cells": [
  {
   "cell_type": "markdown",
   "id": "ae75d331-89d2-44bc-bc39-81985ab8a4a9",
   "metadata": {},
   "source": [
    "Import packages"
   ]
  },
  {
   "cell_type": "code",
   "execution_count": 22,
   "id": "2aee571f-f4ed-4c88-8cc5-f3692290f4b7",
   "metadata": {},
   "outputs": [],
   "source": [
    "using JuMP\n",
    "using GLPK"
   ]
  },
  {
   "cell_type": "markdown",
   "id": "3b1899cc-8c87-43fb-ae2b-bfc1227cc094",
   "metadata": {},
   "source": [
    "Create a linear solver object."
   ]
  },
  {
   "cell_type": "code",
   "execution_count": 23,
   "id": "383a3f66-aec6-4cfa-af61-e0446b91586c",
   "metadata": {},
   "outputs": [
    {
     "data": {
      "text/plain": [
       "A JuMP Model\n",
       "Feasibility problem with:\n",
       "Variables: 0\n",
       "Model mode: AUTOMATIC\n",
       "CachingOptimizer state: EMPTY_OPTIMIZER\n",
       "Solver name: GLPK"
      ]
     },
     "execution_count": 23,
     "metadata": {},
     "output_type": "execute_result"
    }
   ],
   "source": [
    "# Create the linear solver with the GLPK backend.\n",
    "model = Model(GLPK.Optimizer)"
   ]
  },
  {
   "cell_type": "markdown",
   "id": "39654c11-3f10-4e29-aa6b-781119fb0b9c",
   "metadata": {},
   "source": [
    "Define the 3 variables of the problem, $x_1$, $x_2$ and $x_3$ as non-negative real numbers."
   ]
  },
  {
   "cell_type": "code",
   "execution_count": 24,
   "id": "1d068afb-2358-4cff-97ae-41ddb24b5da9",
   "metadata": {},
   "outputs": [],
   "source": [
    "@variable(model, x1 >= 0)\n",
    "@variable(model, x2 >= 0)\n",
    "@variable(model, x3 >= 0);"
   ]
  },
  {
   "cell_type": "markdown",
   "id": "e15edd82-8530-4b26-ae5d-75faa1c92e7d",
   "metadata": {},
   "source": [
    "Write the four linear constraints of the problem\n",
    "\n",
    "$0.7 * x_1 + 0.8 * x_2 + 0 * x_3 >= 10$\n",
    "\n",
    "$0.9 * x_1 + 0.8 * x_2 + 0.8 * x_3 >= 12$\n",
    "\n",
    "$0.8 * x_1 + 1.5 * x_2 + 0.9 * x_3 >= 15$\n",
    "\n",
    "$0.5 * x_1 + 0.6 * x_2 + 0.4 * x_3 <= 7.5$"
   ]
  },
  {
   "cell_type": "code",
   "execution_count": 25,
   "id": "9a99f431-5b85-48c5-810c-f9a25242aeb4",
   "metadata": {},
   "outputs": [],
   "source": [
    "@constraint(model, 0.7 * x1 + 0.8 * x2 + 0 * x3 >= 10)\n",
    "@constraint(model, 0.9 * x1 + 0.8 * x2 + 0.8 * x3 >= 12)\n",
    "@constraint(model, 0.8 * x1 + 1.5 * x2 + 0.9 * x3 >= 15)\n",
    "@constraint(model, 0.5 * x1 + 0.6 * x2 + 0.4 * x3 <= 7.5);"
   ]
  },
  {
   "cell_type": "markdown",
   "id": "e9b27a5b-e0f7-4f00-8d34-162e4b814bc3",
   "metadata": {},
   "source": [
    "Write the objective function of the problem to be minimized:\n",
    "\n",
    "$0.25 * x_1 + 0.01 * x_2 + 0.08 * x_3$"
   ]
  },
  {
   "cell_type": "code",
   "execution_count": 26,
   "id": "50243f22-013e-496f-a083-3e669e7a08ac",
   "metadata": {},
   "outputs": [],
   "source": [
    "@objective(model, Min, 0.25 * x1 + 0.10 * x2 + 0.08 * x3);"
   ]
  },
  {
   "cell_type": "markdown",
   "id": "5b3ea491-4c2a-4bcf-a35f-ead84fdc51db",
   "metadata": {},
   "source": [
    "And, finally, solve it:"
   ]
  },
  {
   "cell_type": "code",
   "execution_count": 27,
   "id": "0d564b71-ff7b-4626-9076-5481d6af5434",
   "metadata": {},
   "outputs": [],
   "source": [
    "optimize!(model)"
   ]
  },
  {
   "cell_type": "code",
   "execution_count": 28,
   "id": "ef2dd56a-e3e1-4b70-89ee-a4cb61e6d750",
   "metadata": {},
   "outputs": [
    {
     "name": "stdout",
     "output_type": "stream",
     "text": [
      "Solution:\n",
      "Objective value = 2.589999999999999\n",
      "x1 = 7.999999999999993\n",
      "x2 = 5.500000000000006\n",
      "x3 = 0.5000000000000011\n"
     ]
    }
   ],
   "source": [
    "println(\"Solution:\")\n",
    "println(\"Objective value = $(objective_value(model))\")\n",
    "println(\"x1 = $(value(x1))\")\n",
    "println(\"x2 = $(value(x2))\")\n",
    "println(\"x3 = $(value(x3))\")"
   ]
  }
 ],
 "metadata": {
  "kernelspec": {
   "display_name": "Julia 1.7.2",
   "language": "julia",
   "name": "julia-1.7"
  },
  "language_info": {
   "file_extension": ".jl",
   "mimetype": "application/julia",
   "name": "julia",
   "version": "1.7.2"
  }
 },
 "nbformat": 4,
 "nbformat_minor": 5
}
