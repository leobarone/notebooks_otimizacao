{
 "cells": [
  {
   "cell_type": "markdown",
   "id": "512b5599-e147-42c0-bc1d-eb0159dca665",
   "metadata": {},
   "source": [
    "Import packages"
   ]
  },
  {
   "cell_type": "code",
   "execution_count": 15,
   "id": "e5964981-01ec-4440-8a11-7dfb04048aba",
   "metadata": {},
   "outputs": [],
   "source": [
    "using JuMP\n",
    "using HiGHS"
   ]
  },
  {
   "cell_type": "markdown",
   "id": "61f43683-ddcb-40be-bc2e-9acb0b7d1a55",
   "metadata": {},
   "source": [
    "Create a linear solver object."
   ]
  },
  {
   "cell_type": "code",
   "execution_count": 16,
   "id": "be926fb2-9845-444f-9f94-b9e776a92f78",
   "metadata": {},
   "outputs": [
    {
     "data": {
      "text/plain": [
       "A JuMP Model\n",
       "Feasibility problem with:\n",
       "Variables: 0\n",
       "Model mode: AUTOMATIC\n",
       "CachingOptimizer state: EMPTY_OPTIMIZER\n",
       "Solver name: HiGHS"
      ]
     },
     "execution_count": 16,
     "metadata": {},
     "output_type": "execute_result"
    }
   ],
   "source": [
    "# Create the linear solver with the HiGHS backend.\n",
    "model = Model(HiGHS.Optimizer)"
   ]
  },
  {
   "cell_type": "markdown",
   "id": "220281a3-1760-462e-a02e-385b7978abb7",
   "metadata": {},
   "source": [
    "Define the 10 variables of the problem, $x_1$, $x_2$, $x_3$, $x_4$, $x_5$, $y_1$, $y_2$, $y_3$, $y_4$, $y_5$ as non-negative real numbers."
   ]
  },
  {
   "cell_type": "code",
   "execution_count": 17,
   "id": "eaba064a-7468-40ca-a10b-1596fcf168f9",
   "metadata": {},
   "outputs": [],
   "source": [
    "@variable(model, x1 >= 0, integer = true)\n",
    "@variable(model, x2 >= 0, integer = true)\n",
    "@variable(model, x3 >= 0, integer = true)\n",
    "@variable(model, x4 >= 0, integer = true)\n",
    "@variable(model, x5 >= 0, integer = true)\n",
    "@variable(model, y1 >= 0, integer = true)\n",
    "@variable(model, y2 >= 0, integer = true)\n",
    "@variable(model, y3 >= 0, integer = true)\n",
    "@variable(model, y4 >= 0, integer = true)\n",
    "@variable(model, y5 >= 0, integer = true);"
   ]
  },
  {
   "cell_type": "markdown",
   "id": "fbc74d44-ac18-40fb-b2f4-9e5712551a22",
   "metadata": {},
   "source": [
    "Write the seven linear constraints of the problem:\n",
    "\n",
    "$x_1 - 1500 * y_1 <= 0$\n",
    "\n",
    "$x_2 - 2250 * y_2 <= 0$\n",
    "\n",
    "$x_3 - 666.667 * y_3 <= 0$\n",
    "\n",
    "$x_4 - 1000 * y_4 <= 0$\n",
    "\n",
    "$x_5 - 500 * y_5 <= 0$\n",
    "\n",
    "$2 * x_1 + 1 * x_2 + 6 * x_3 + 4 * x_4 + 8 * x_5 <= 4000$\n",
    "\n",
    "$3 * x_1 + 2.5 * x_2 + 4 * x_3 + 4.5 * x_4 + 5.5 * x_5 <= 4500$"
   ]
  },
  {
   "cell_type": "code",
   "execution_count": 19,
   "id": "982b0b14-1115-4dc6-bb41-0ae396ba68dc",
   "metadata": {},
   "outputs": [],
   "source": [
    "@constraint(model, x1 - 1500 * y1 <= 0)\n",
    "@constraint(model, x2 - 2250 * y2 <= 0)\n",
    "@constraint(model, x3 - 666.667 * y3 <= 0)\n",
    "@constraint(model, x4 - 1000 * y4 <= 0)\n",
    "@constraint(model, x5 - 500 * y5 <= 0)\n",
    "@constraint(model, 2 * x1 + 1 * x2 + 6 * x3 + 4 * x4 + 8 * x5 <= 4000)\n",
    "@constraint(model, 3 * x1 + 2.5 * x2 + 4 * x3 + 4.5 * x4 + 5.5 * x5 <= 4500);"
   ]
  },
  {
   "cell_type": "markdown",
   "id": "ff1ba5a6-319d-4c71-bd46-954b610ab973",
   "metadata": {},
   "source": [
    "Write the objective function of the problem to be maximized:\n",
    "\n",
    "$15 * x_1 + 30 * x_2 + 40 * x_3 + 40 * x_4 + 75 * x_5 - 1500 * y1 - 1200 * y_2 - 1600 * y_3 - 1500 * y_4 - 1600 * y_5$"
   ]
  },
  {
   "cell_type": "code",
   "execution_count": 21,
   "id": "97cf9aa7-3336-4241-81ee-44d9f0a6f9c2",
   "metadata": {},
   "outputs": [],
   "source": [
    "@objective(model, Max, 15 * x1 + 30 * x2 + 40 * x3 + 40 * x4 + 75 * x5 - 1500 * y1 - 1200 * y2 - 1600 * y3 - 1500 * y4 - 1600 * y5);"
   ]
  },
  {
   "cell_type": "markdown",
   "id": "77c14180-0f1b-4213-9e83-d1d4481d365b",
   "metadata": {},
   "source": [
    "And, finally, solve it:"
   ]
  },
  {
   "cell_type": "code",
   "execution_count": 22,
   "id": "d56a024d-e53d-46ba-a17b-a179aa8439a6",
   "metadata": {},
   "outputs": [
    {
     "name": "stdout",
     "output_type": "stream",
     "text": [
      "Presolving model\n",
      "14 rows, 10 cols, 40 nonzeros\n",
      "7 rows, 10 cols, 20 nonzeros\n",
      "7 rows, 10 cols, 20 nonzeros\n",
      "Objective function is integral with scale 0.2\n",
      "\n",
      "Solving MIP model with:\n",
      "   7 rows\n",
      "   10 cols (0 binary, 10 integer, 0 implied int., 0 continuous)\n",
      "   20 nonzeros\n",
      "\n",
      "        Nodes      |    B&B Tree     |            Objective Bounds              |  Dynamic Constraints |       Work      \n",
      "     Proc. InQueue |  Leaves   Expl. | BestBound       BestSol              Gap |   Cuts   InLp Confl. | LpIters     Time\n",
      "\n",
      "         0       0         0   0.00%   180640          -inf                 inf        0      0      0         0     0.0s\n",
      " S       0       0         0   0.00%   180640          54575            230.99%        0      0      0         0     0.0s\n",
      "         0       0         0   0.00%   55000           54575              0.78%        0      0      4         8     0.0s\n",
      " L       0       0         0   0.00%   55000           54605              0.72%        0      0      7         8     0.0s\n",
      "\n",
      "Solving report\n",
      "  Status            Optimal\n",
      "  Primal bound      54605\n",
      "  Dual bound        54610\n",
      "  Gap               0.00916% (tolerance: 0.01%)\n",
      "  Solution status   feasible\n",
      "                    54605 (objective)\n",
      "                    0 (bound viol.)\n",
      "                    0 (int. viol.)\n",
      "                    0 (row viol.)\n",
      "  Timing            0.05 (total)\n",
      "                    0.00 (presolve)\n",
      "                    0.00 (postsolve)\n",
      "  Nodes             1\n",
      "  LP iterations     11 (total)\n",
      "                    0 (strong br.)\n",
      "                    2 (separation)\n",
      "                    0 (heuristics)\n"
     ]
    }
   ],
   "source": [
    "optimize!(model)"
   ]
  },
  {
   "cell_type": "code",
   "execution_count": 23,
   "id": "02c493d2-88b3-40d2-85c1-f3779c1008c8",
   "metadata": {},
   "outputs": [
    {
     "name": "stdout",
     "output_type": "stream",
     "text": [
      "Solution:\n",
      "Objective value = 54605.0\n",
      "x1 = 0.0\n",
      "x2 = 966.0\n",
      "x3 = 0.0\n",
      "x4 = 0.0\n",
      "x5 = 379.0\n",
      "y1 = 0.0\n",
      "y2 = 1.0\n",
      "y3 = 0.0\n",
      "y4 = 0.0\n",
      "y5 = 1.0\n"
     ]
    }
   ],
   "source": [
    "println(\"Solution:\")\n",
    "println(\"Objective value = $(objective_value(model))\")\n",
    "println(\"x1 = $(value(x1))\")\n",
    "println(\"x2 = $(value(x2))\")\n",
    "println(\"x3 = $(value(x3))\")\n",
    "println(\"x4 = $(value(x4))\")\n",
    "println(\"x5 = $(value(x5))\")\n",
    "println(\"y1 = $(value(y1))\")\n",
    "println(\"y2 = $(value(y2))\")\n",
    "println(\"y3 = $(value(y3))\")\n",
    "println(\"y4 = $(value(y4))\")\n",
    "println(\"y5 = $(value(y5))\")\n"
   ]
  },
  {
   "cell_type": "code",
   "execution_count": null,
   "id": "3b8ecb21-fdbd-4598-b140-1f54066cbbf7",
   "metadata": {},
   "outputs": [],
   "source": []
  }
 ],
 "metadata": {
  "kernelspec": {
   "display_name": "Julia 1.7.2",
   "language": "julia",
   "name": "julia-1.7"
  },
  "language_info": {
   "file_extension": ".jl",
   "mimetype": "application/julia",
   "name": "julia",
   "version": "1.7.2"
  }
 },
 "nbformat": 4,
 "nbformat_minor": 5
}
