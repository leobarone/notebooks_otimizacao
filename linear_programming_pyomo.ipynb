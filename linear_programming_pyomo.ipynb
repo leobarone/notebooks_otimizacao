{
 "cells": [
  {
   "cell_type": "markdown",
   "id": "afd26ed3-aefb-46c2-9aa3-d51881cdf4d6",
   "metadata": {},
   "source": [
    "Import pyomo"
   ]
  },
  {
   "cell_type": "code",
   "execution_count": 12,
   "id": "d00938c0-53d7-4f7b-8336-35a7c1ff4304",
   "metadata": {},
   "outputs": [],
   "source": [
    "from pyomo.environ import *"
   ]
  },
  {
   "cell_type": "markdown",
   "id": "44b8e2c3-de54-45f0-a685-b9efbc599ae7",
   "metadata": {},
   "source": [
    "Create an linear solver object"
   ]
  },
  {
   "cell_type": "code",
   "execution_count": 13,
   "id": "ec5e55c0-e88a-42b5-843a-7da11a2faf5c",
   "metadata": {},
   "outputs": [],
   "source": [
    "# Create the model object\n",
    "model = ConcreteModel()"
   ]
  },
  {
   "cell_type": "markdown",
   "id": "245b93ac-6cf5-4e55-8ec9-d449432767ed",
   "metadata": {},
   "source": [
    "Define the 3 variables of the problem, $x_1$, $x_2$ and $x_3$ as non-negative real numbers."
   ]
  },
  {
   "cell_type": "code",
   "execution_count": 14,
   "id": "a7f0d030-1576-40e6-8b7a-622a6a22323c",
   "metadata": {},
   "outputs": [],
   "source": [
    "# Create the variables x1, x2 and x3.\n",
    "model.x1 = Var(domain=NonNegativeReals)\n",
    "model.x2 = Var(domain=NonNegativeReals)\n",
    "model.x3 = Var(domain=NonNegativeReals)"
   ]
  },
  {
   "cell_type": "markdown",
   "id": "44ac71d5-6b6d-4e48-98b8-169b724dd3af",
   "metadata": {},
   "source": [
    "Write the objective function of the problem to be minimized:\n",
    "\n",
    "$0.25 * x_1 + 0.01 * x_2 + 0.08 * x_3$"
   ]
  },
  {
   "cell_type": "code",
   "execution_count": 15,
   "id": "195263ff-b813-4dd2-a171-ad7763755d2f",
   "metadata": {},
   "outputs": [],
   "source": [
    "# Objective function, 3 * x + y.\n",
    "model.obj = Objective(expr = 0.25*model.x1 + 0.10*model.x2 + 0.08*model.x3, sense=minimize)"
   ]
  },
  {
   "cell_type": "markdown",
   "id": "d6b22c63-8697-4d4d-9205-718b24ab1ea1",
   "metadata": {},
   "source": [
    "Write the four linear constraints of the problem\n",
    "\n",
    "$0.7 * x_1 + 0.8 * x_2 + 0 * x_3 >= 10$\n",
    "\n",
    "$0.9 * x_1 + 0.8 * x_2 + 0.8 * x_3 >= 12$\n",
    "\n",
    "$0.8 * x_1 + 1.5 * x_2 + 0.9 * x_3 >= 15$\n",
    "\n",
    "$0.5 * x_1 + 0.6 * x_2 + 0.4 * x_3 <= 7.5$"
   ]
  },
  {
   "cell_type": "code",
   "execution_count": 16,
   "id": "efd3c68f-23e7-416c-8652-9c22318cdf17",
   "metadata": {},
   "outputs": [],
   "source": [
    "model.ct1 = Constraint(expr = 0.7 * model.x1 + 0.8 * model.x2 + 0 * model.x3 >= 10)\n",
    "model.ct2 = Constraint(expr = 0.9 * model.x1 + 0.8 * model.x2 + 0.8 * model.x3 >= 12)\n",
    "model.ct3 = Constraint(expr = 0.8 * model.x1 + 1.5 * model.x2 + 0.9 * model.x3 >= 15)\n",
    "model.ct4 = Constraint(expr = 0.5 * model.x1 + 0.6 * model.x2 + 0.4 * model.x3 <= 7.5)"
   ]
  },
  {
   "cell_type": "markdown",
   "id": "8a7f2fd9-874e-46d4-9e4e-c55338d6a36a",
   "metadata": {},
   "source": [
    "And, finally, solve it."
   ]
  },
  {
   "cell_type": "code",
   "execution_count": 17,
   "id": "a3be7b87-51e5-49f6-af94-a26ce6335722",
   "metadata": {
    "collapsed": true,
    "jupyter": {
     "outputs_hidden": true
    },
    "tags": []
   },
   "outputs": [
    {
     "name": "stdout",
     "output_type": "stream",
     "text": [
      "WARNING: Could not locate the 'glpsol' executable, which is required for\n",
      "    solver 'glpk'\n"
     ]
    },
    {
     "ename": "ApplicationError",
     "evalue": "No executable found for solver 'glpk'",
     "output_type": "error",
     "traceback": [
      "\u001b[0;31m---------------------------------------------------------------------------\u001b[0m",
      "\u001b[0;31mApplicationError\u001b[0m                          Traceback (most recent call last)",
      "Input \u001b[0;32mIn [17]\u001b[0m, in \u001b[0;36m<cell line: 1>\u001b[0;34m()\u001b[0m\n\u001b[0;32m----> 1\u001b[0m results \u001b[38;5;241m=\u001b[39m \u001b[43mSolverFactory\u001b[49m\u001b[43m(\u001b[49m\u001b[38;5;124;43m'\u001b[39;49m\u001b[38;5;124;43mglpk\u001b[39;49m\u001b[38;5;124;43m'\u001b[39;49m\u001b[43m)\u001b[49m\u001b[38;5;241;43m.\u001b[39;49m\u001b[43msolve\u001b[49m\u001b[43m(\u001b[49m\u001b[43mmodel\u001b[49m\u001b[43m)\u001b[49m\n\u001b[1;32m      2\u001b[0m results\u001b[38;5;241m.\u001b[39mwrite()\n\u001b[1;32m      3\u001b[0m \u001b[38;5;28;01mif\u001b[39;00m results\u001b[38;5;241m.\u001b[39msolver\u001b[38;5;241m.\u001b[39mstatus \u001b[38;5;241m==\u001b[39m \u001b[38;5;124m'\u001b[39m\u001b[38;5;124mok\u001b[39m\u001b[38;5;124m'\u001b[39m:\n",
      "File \u001b[0;32m~/.local/lib/python3.8/site-packages/pyomo/opt/base/solvers.py:512\u001b[0m, in \u001b[0;36mOptSolver.solve\u001b[0;34m(self, *args, **kwds)\u001b[0m\n\u001b[1;32m    509\u001b[0m \u001b[38;5;28;01mdef\u001b[39;00m \u001b[38;5;21msolve\u001b[39m(\u001b[38;5;28mself\u001b[39m, \u001b[38;5;241m*\u001b[39margs, \u001b[38;5;241m*\u001b[39m\u001b[38;5;241m*\u001b[39mkwds):\n\u001b[1;32m    510\u001b[0m     \u001b[38;5;124;03m\"\"\" Solve the problem \"\"\"\u001b[39;00m\n\u001b[0;32m--> 512\u001b[0m     \u001b[38;5;28;43mself\u001b[39;49m\u001b[38;5;241;43m.\u001b[39;49m\u001b[43mavailable\u001b[49m\u001b[43m(\u001b[49m\u001b[43mexception_flag\u001b[49m\u001b[38;5;241;43m=\u001b[39;49m\u001b[38;5;28;43;01mTrue\u001b[39;49;00m\u001b[43m)\u001b[49m\n\u001b[1;32m    513\u001b[0m     \u001b[38;5;66;03m#\u001b[39;00m\n\u001b[1;32m    514\u001b[0m     \u001b[38;5;66;03m# If the inputs are models, then validate that they have been\u001b[39;00m\n\u001b[1;32m    515\u001b[0m     \u001b[38;5;66;03m# constructed! Collect suffix names to try and import from solution.\u001b[39;00m\n\u001b[1;32m    516\u001b[0m     \u001b[38;5;66;03m#\u001b[39;00m\n\u001b[1;32m    517\u001b[0m     \u001b[38;5;28;01mfrom\u001b[39;00m \u001b[38;5;21;01mpyomo\u001b[39;00m\u001b[38;5;21;01m.\u001b[39;00m\u001b[38;5;21;01mcore\u001b[39;00m\u001b[38;5;21;01m.\u001b[39;00m\u001b[38;5;21;01mbase\u001b[39;00m\u001b[38;5;21;01m.\u001b[39;00m\u001b[38;5;21;01mblock\u001b[39;00m \u001b[38;5;28;01mimport\u001b[39;00m _BlockData\n",
      "File \u001b[0;32m~/.local/lib/python3.8/site-packages/pyomo/opt/solver/shellcmd.py:128\u001b[0m, in \u001b[0;36mSystemCallSolver.available\u001b[0;34m(self, exception_flag)\u001b[0m\n\u001b[1;32m    126\u001b[0m     \u001b[38;5;28;01mif\u001b[39;00m exception_flag:\n\u001b[1;32m    127\u001b[0m         msg \u001b[38;5;241m=\u001b[39m \u001b[38;5;124m\"\u001b[39m\u001b[38;5;124mNo executable found for solver \u001b[39m\u001b[38;5;124m'\u001b[39m\u001b[38;5;132;01m%s\u001b[39;00m\u001b[38;5;124m'\u001b[39m\u001b[38;5;124m\"\u001b[39m\n\u001b[0;32m--> 128\u001b[0m         \u001b[38;5;28;01mraise\u001b[39;00m ApplicationError(msg \u001b[38;5;241m%\u001b[39m \u001b[38;5;28mself\u001b[39m\u001b[38;5;241m.\u001b[39mname)\n\u001b[1;32m    129\u001b[0m     \u001b[38;5;28;01mreturn\u001b[39;00m \u001b[38;5;28;01mFalse\u001b[39;00m\n\u001b[1;32m    130\u001b[0m \u001b[38;5;28;01mreturn\u001b[39;00m \u001b[38;5;28;01mTrue\u001b[39;00m\n",
      "\u001b[0;31mApplicationError\u001b[0m: No executable found for solver 'glpk'"
     ]
    }
   ],
   "source": [
    "results = SolverFactory('glpk').solve(model, tee=True))\n",
    "results.write()\n",
    "if results.solver.status == 'ok':\n",
    "    model.pprint()"
   ]
  },
  {
   "cell_type": "markdown",
   "id": "2395b2e2-0f95-40dd-86f6-176098ac2920",
   "metadata": {},
   "source": [
    "The results are:"
   ]
  },
  {
   "cell_type": "code",
   "execution_count": 18,
   "id": "0b8542ca-d8fb-43e4-aa57-c5791ddf7ca5",
   "metadata": {
    "collapsed": true,
    "jupyter": {
     "outputs_hidden": true
    },
    "tags": []
   },
   "outputs": [
    {
     "name": "stdout",
     "output_type": "stream",
     "text": [
      "ERROR: evaluating object as numeric value: x1\n",
      "        (object: <class 'pyomo.core.base.var.ScalarVar'>)\n",
      "    No value for uninitialized NumericValue object x1\n"
     ]
    },
    {
     "ename": "ValueError",
     "evalue": "No value for uninitialized NumericValue object x1",
     "output_type": "error",
     "traceback": [
      "\u001b[0;31m---------------------------------------------------------------------------\u001b[0m",
      "\u001b[0;31mValueError\u001b[0m                                Traceback (most recent call last)",
      "Input \u001b[0;32mIn [18]\u001b[0m, in \u001b[0;36m<cell line: 1>\u001b[0;34m()\u001b[0m\n\u001b[0;32m----> 1\u001b[0m \u001b[38;5;28mprint\u001b[39m(\u001b[38;5;124m'\u001b[39m\u001b[38;5;124mObjective Function = \u001b[39m\u001b[38;5;124m'\u001b[39m, \u001b[43mmodel\u001b[49m\u001b[38;5;241;43m.\u001b[39;49m\u001b[43mobj\u001b[49m\u001b[43m(\u001b[49m\u001b[43m)\u001b[49m)\n\u001b[1;32m      3\u001b[0m \u001b[38;5;28mprint\u001b[39m(\u001b[38;5;124m'\u001b[39m\u001b[38;5;130;01m\\n\u001b[39;00m\u001b[38;5;124mDecision Variables\u001b[39m\u001b[38;5;124m'\u001b[39m)\n\u001b[1;32m      4\u001b[0m \u001b[38;5;28mprint\u001b[39m(\u001b[38;5;124m'\u001b[39m\u001b[38;5;124mx1 = \u001b[39m\u001b[38;5;124m'\u001b[39m, model\u001b[38;5;241m.\u001b[39mx1())\n",
      "File \u001b[0;32m~/.local/lib/python3.8/site-packages/pyomo/core/base/expression.py:54\u001b[0m, in \u001b[0;36m_ExpressionData.__call__\u001b[0;34m(self, exception)\u001b[0m\n\u001b[1;32m     52\u001b[0m \u001b[38;5;28;01mif\u001b[39;00m \u001b[38;5;28mself\u001b[39m\u001b[38;5;241m.\u001b[39mexpr \u001b[38;5;129;01mis\u001b[39;00m \u001b[38;5;28;01mNone\u001b[39;00m:\n\u001b[1;32m     53\u001b[0m     \u001b[38;5;28;01mreturn\u001b[39;00m \u001b[38;5;28;01mNone\u001b[39;00m\n\u001b[0;32m---> 54\u001b[0m \u001b[38;5;28;01mreturn\u001b[39;00m \u001b[38;5;28;43mself\u001b[39;49m\u001b[38;5;241;43m.\u001b[39;49m\u001b[43mexpr\u001b[49m\u001b[43m(\u001b[49m\u001b[43mexception\u001b[49m\u001b[38;5;241;43m=\u001b[39;49m\u001b[43mexception\u001b[49m\u001b[43m)\u001b[49m\n",
      "File \u001b[0;32mpyomo/core/expr/numeric_expr.pyx:209\u001b[0m, in \u001b[0;36mpyomo.core.expr.numeric_expr.ExpressionBase.__call__\u001b[0;34m()\u001b[0m\n",
      "File \u001b[0;32m~/.local/lib/python3.8/site-packages/pyomo/core/expr/visitor.py:892\u001b[0m, in \u001b[0;36mevaluate_expression\u001b[0;34m(exp, exception, constant)\u001b[0m\n\u001b[1;32m    890\u001b[0m     visitor \u001b[38;5;241m=\u001b[39m _EvaluationVisitor(exception\u001b[38;5;241m=\u001b[39mexception)\n\u001b[1;32m    891\u001b[0m \u001b[38;5;28;01mtry\u001b[39;00m:\n\u001b[0;32m--> 892\u001b[0m     \u001b[38;5;28;01mreturn\u001b[39;00m \u001b[43mvisitor\u001b[49m\u001b[38;5;241;43m.\u001b[39;49m\u001b[43mdfs_postorder_stack\u001b[49m\u001b[43m(\u001b[49m\u001b[43mexp\u001b[49m\u001b[43m)\u001b[49m\n\u001b[1;32m    894\u001b[0m \u001b[38;5;28;01mexcept\u001b[39;00m ( TemplateExpressionError, \u001b[38;5;167;01mValueError\u001b[39;00m, \u001b[38;5;167;01mTypeError\u001b[39;00m,\n\u001b[1;32m    895\u001b[0m          NonConstantExpressionError, FixedExpressionError ):\n\u001b[1;32m    896\u001b[0m     \u001b[38;5;66;03m# Errors that we want to be able to suppress:\u001b[39;00m\n\u001b[0;32m   (...)\u001b[0m\n\u001b[1;32m    904\u001b[0m     \u001b[38;5;66;03m#   TypeError: This can be raised in Python3 when evaluating a\u001b[39;00m\n\u001b[1;32m    905\u001b[0m     \u001b[38;5;66;03m#      operation returns a complex number (e.g., sqrt(-1))\u001b[39;00m\n\u001b[1;32m    906\u001b[0m     \u001b[38;5;28;01mif\u001b[39;00m exception:\n",
      "File \u001b[0;32m~/.local/lib/python3.8/site-packages/pyomo/core/expr/visitor.py:574\u001b[0m, in \u001b[0;36mExpressionValueVisitor.dfs_postorder_stack\u001b[0;34m(self, node)\u001b[0m\n\u001b[1;32m    572\u001b[0m _sub \u001b[38;5;241m=\u001b[39m _argList[_idx]\n\u001b[1;32m    573\u001b[0m _idx \u001b[38;5;241m+\u001b[39m\u001b[38;5;241m=\u001b[39m \u001b[38;5;241m1\u001b[39m\n\u001b[0;32m--> 574\u001b[0m flag, value \u001b[38;5;241m=\u001b[39m \u001b[38;5;28;43mself\u001b[39;49m\u001b[38;5;241;43m.\u001b[39;49m\u001b[43mvisiting_potential_leaf\u001b[49m\u001b[43m(\u001b[49m\u001b[43m_sub\u001b[49m\u001b[43m)\u001b[49m\n\u001b[1;32m    575\u001b[0m \u001b[38;5;28;01mif\u001b[39;00m flag:\n\u001b[1;32m    576\u001b[0m     _result\u001b[38;5;241m.\u001b[39mappend( value )\n",
      "File \u001b[0;32m~/.local/lib/python3.8/site-packages/pyomo/core/expr/visitor.py:802\u001b[0m, in \u001b[0;36m_EvaluationVisitor.visiting_potential_leaf\u001b[0;34m(self, node)\u001b[0m\n\u001b[1;32m    799\u001b[0m     \u001b[38;5;28;01mreturn\u001b[39;00m \u001b[38;5;28;01mFalse\u001b[39;00m, \u001b[38;5;28;01mNone\u001b[39;00m\n\u001b[1;32m    801\u001b[0m \u001b[38;5;28;01mif\u001b[39;00m node\u001b[38;5;241m.\u001b[39mis_numeric_type():\n\u001b[0;32m--> 802\u001b[0m     \u001b[38;5;28;01mreturn\u001b[39;00m \u001b[38;5;28;01mTrue\u001b[39;00m, \u001b[43mvalue\u001b[49m\u001b[43m(\u001b[49m\u001b[43mnode\u001b[49m\u001b[43m,\u001b[49m\u001b[43m \u001b[49m\u001b[43mexception\u001b[49m\u001b[38;5;241;43m=\u001b[39;49m\u001b[38;5;28;43mself\u001b[39;49m\u001b[38;5;241;43m.\u001b[39;49m\u001b[43mexception\u001b[49m\u001b[43m)\u001b[49m\n\u001b[1;32m    803\u001b[0m \u001b[38;5;28;01melif\u001b[39;00m node\u001b[38;5;241m.\u001b[39mis_logical_type():\n\u001b[1;32m    804\u001b[0m     \u001b[38;5;28;01mreturn\u001b[39;00m \u001b[38;5;28;01mTrue\u001b[39;00m, value(node, exception\u001b[38;5;241m=\u001b[39m\u001b[38;5;28mself\u001b[39m\u001b[38;5;241m.\u001b[39mexception)\n",
      "File \u001b[0;32mpyomo/core/expr/numvalue.pyx:156\u001b[0m, in \u001b[0;36mpyomo.core.expr.numvalue.value\u001b[0;34m()\u001b[0m\n",
      "File \u001b[0;32mpyomo/core/expr/numvalue.pyx:143\u001b[0m, in \u001b[0;36mpyomo.core.expr.numvalue.value\u001b[0;34m()\u001b[0m\n",
      "\u001b[0;31mValueError\u001b[0m: No value for uninitialized NumericValue object x1"
     ]
    }
   ],
   "source": [
    "print('Objective Function = ', model.obj())\n",
    "\n",
    "print('\\nDecision Variables')\n",
    "print('x1 = ', model.x1())\n",
    "print('x2 = ', model.x2())\n",
    "print('x3 = ', model.x3())\n",
    "\n",
    "print('\\nConstraints')\n",
    "print('Constraint 1 = ', model.ct1())\n",
    "print('Constraint 2 = ', model.ct2())\n",
    "print('Constraint 3 = ', model.ct3())\n",
    "print('Constraint 4 = ', model.ct4())"
   ]
  }
 ],
 "metadata": {
  "kernelspec": {
   "display_name": "Python 3 (ipykernel)",
   "language": "python",
   "name": "python3"
  },
  "language_info": {
   "codemirror_mode": {
    "name": "ipython",
    "version": 3
   },
   "file_extension": ".py",
   "mimetype": "text/x-python",
   "name": "python",
   "nbconvert_exporter": "python",
   "pygments_lexer": "ipython3",
   "version": "3.8.10"
  }
 },
 "nbformat": 4,
 "nbformat_minor": 5
}
