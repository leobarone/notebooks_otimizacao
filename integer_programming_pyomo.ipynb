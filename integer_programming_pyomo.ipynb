{
 "cells": [
  {
   "cell_type": "markdown",
   "id": "d43865f8-5642-41ea-8e29-1afc7bfcba4d",
   "metadata": {},
   "source": [
    "Import pyomo"
   ]
  },
  {
   "cell_type": "code",
   "execution_count": 1,
   "id": "3b24fc52-290e-4091-968b-0ebc288ef944",
   "metadata": {},
   "outputs": [],
   "source": [
    "from pyomo.environ import *"
   ]
  },
  {
   "cell_type": "markdown",
   "id": "e312849d-c406-40ae-9aee-fecafe1dfd3f",
   "metadata": {},
   "source": [
    "Create a linear solver object"
   ]
  },
  {
   "cell_type": "code",
   "execution_count": 2,
   "id": "f015f929-04b7-4201-ba59-950977d0f845",
   "metadata": {},
   "outputs": [],
   "source": [
    "# Create the model object\n",
    "model = ConcreteModel()"
   ]
  },
  {
   "cell_type": "markdown",
   "id": "e4211a45-2037-4113-883b-ed63a5e29576",
   "metadata": {},
   "source": [
    "Define the 10 variables of the problem, $x_1$, $x_2$, $x_3$, $x_4$, $x_5$, $y_1$, $y_2$, $y_3$, $y_4$, $y_5$ as non-negative real numbers."
   ]
  },
  {
   "cell_type": "code",
   "execution_count": 3,
   "id": "451300d8-ce00-445d-a061-431e280789a0",
   "metadata": {},
   "outputs": [],
   "source": [
    "# Create the variables x1, x2 and x3.\n",
    "model.x1 = Var(domain=NonNegativeIntegers)\n",
    "model.x2 = Var(domain=NonNegativeIntegers)\n",
    "model.x3 = Var(domain=NonNegativeIntegers)\n",
    "model.x4 = Var(domain=NonNegativeIntegers)\n",
    "model.x5 = Var(domain=NonNegativeIntegers)\n",
    "model.y1 = Var(domain=NonNegativeIntegers)\n",
    "model.y2 = Var(domain=NonNegativeIntegers)\n",
    "model.y3 = Var(domain=NonNegativeIntegers)\n",
    "model.y4 = Var(domain=NonNegativeIntegers)\n",
    "model.y5 = Var(domain=NonNegativeIntegers)"
   ]
  },
  {
   "cell_type": "markdown",
   "id": "9f9711d4-e31f-42ab-945c-f6610f78738c",
   "metadata": {},
   "source": [
    "Write the objective function of the problem to be maximized:\n",
    "\n",
    "$15 * x_1 + 30 * x_2 + 40 * x_3 + 40 * x_4 + 75 * x_5 - 1500 * y1 - 1200 * y_2 - 1600 * y_3 - 1500 * y_4 - 1600 * y_5$"
   ]
  },
  {
   "cell_type": "code",
   "execution_count": 5,
   "id": "0e5f0141-591b-402a-b74c-f688bb3a9363",
   "metadata": {},
   "outputs": [],
   "source": [
    "# Objective function, 3 * x + y.\n",
    "model.obj = Objective(expr = 15*model.x1+30*model.x2+40*model.x3+40*model.x4+75*model.x5-1500*model.y1-1200*model.y2-1600*model.y3-1500*model.y4-1600*model.y5, sense=maximize)"
   ]
  },
  {
   "cell_type": "markdown",
   "id": "62e9f9f3-4abe-4819-ad43-b1e0d3c245ce",
   "metadata": {},
   "source": [
    "Write the seven linear constraints of the problem:\n",
    "\n",
    "$x_1 - 1500 * y_1 <= 0$\n",
    "\n",
    "$x_2 - 2250 * y_2 <= 0$\n",
    "\n",
    "$x_3 - 666.667 * y_3 <= 0$\n",
    "\n",
    "$x_4 - 1000 * y_4 <= 0$\n",
    "\n",
    "$x_5 - 500 * y_5 <= 0$\n",
    "\n",
    "$2 * x_1 + 1 * x_2 + 6 * x_3 + 4 * x_4 + 8 * x_5 <= 4000$\n",
    "\n",
    "$3 * x_1 + 2.5 * x_2 + 4 * x_3 + 4.5 * x_4 + 5.5 * x_5 <= 4500$"
   ]
  },
  {
   "cell_type": "code",
   "execution_count": 6,
   "id": "1e106132-93dd-4d2b-bd93-58baec3b761e",
   "metadata": {},
   "outputs": [],
   "source": [
    "model.ct1 = Constraint(expr = model.x1 - 1500 * model.y1 <= 0)\n",
    "model.ct2 = Constraint(expr = model.x2 - 2250 * model.y2 <= 0)\n",
    "model.ct3 = Constraint(expr = model.x3 - 666.667 * model.y3 <= 0)\n",
    "model.ct4 = Constraint(expr = model.x4 - 1000 * model.y4 <= 0)\n",
    "model.ct5 = Constraint(expr = model.x5 - 500 * model.y5 <= 0)\n",
    "model.ct6 = Constraint(expr = 2 * model.x1 + 1 * model.x2 + 6 * model.x3 + 4 * model.x4 + 8 * model.x5 <= 4000)\n",
    "model.ct7 = Constraint(expr = 3 * model.x1 + 2.5 * model.x2 + 4 * model.x3 + 4.5 * model.x4 + 5.5 * model.x5 <= 4500)"
   ]
  },
  {
   "cell_type": "markdown",
   "id": "2a56cb6b-73f4-4051-9107-0a5f50b4e6ab",
   "metadata": {},
   "source": [
    "And, finally, solve it."
   ]
  },
  {
   "cell_type": "code",
   "execution_count": 13,
   "id": "4ce3eb4e-c651-4f2f-9501-40f2898c1ddf",
   "metadata": {},
   "outputs": [
    {
     "name": "stdout",
     "output_type": "stream",
     "text": [
      "# ==========================================================\n",
      "# = Solver Results                                         =\n",
      "# ==========================================================\n",
      "# ----------------------------------------------------------\n",
      "#   Problem Information\n",
      "# ----------------------------------------------------------\n",
      "Problem: \n",
      "- Name: unknown\n",
      "  Lower bound: 54605.0\n",
      "  Upper bound: 54605.0\n",
      "  Number of objectives: 1\n",
      "  Number of constraints: 8\n",
      "  Number of variables: 11\n",
      "  Number of nonzeros: 21\n",
      "  Sense: maximize\n",
      "# ----------------------------------------------------------\n",
      "#   Solver Information\n",
      "# ----------------------------------------------------------\n",
      "Solver: \n",
      "- Status: ok\n",
      "  Termination condition: optimal\n",
      "  Statistics: \n",
      "    Branch and bound: \n",
      "      Number of bounded subproblems: 3\n",
      "      Number of created subproblems: 3\n",
      "  Error rc: 0\n",
      "  Time: 0.008883237838745117\n",
      "# ----------------------------------------------------------\n",
      "#   Solution Information\n",
      "# ----------------------------------------------------------\n",
      "Solution: \n",
      "- number of solutions: 0\n",
      "  number of solutions displayed: 0\n",
      "10 Var Declarations\n",
      "    x1 : Size=1, Index=None\n",
      "        Key  : Lower : Value : Upper : Fixed : Stale : Domain\n",
      "        None :     0 :   0.0 :  None : False : False : NonNegativeIntegers\n",
      "    x2 : Size=1, Index=None\n",
      "        Key  : Lower : Value : Upper : Fixed : Stale : Domain\n",
      "        None :     0 : 966.0 :  None : False : False : NonNegativeIntegers\n",
      "    x3 : Size=1, Index=None\n",
      "        Key  : Lower : Value : Upper : Fixed : Stale : Domain\n",
      "        None :     0 :   0.0 :  None : False : False : NonNegativeIntegers\n",
      "    x4 : Size=1, Index=None\n",
      "        Key  : Lower : Value : Upper : Fixed : Stale : Domain\n",
      "        None :     0 :   0.0 :  None : False : False : NonNegativeIntegers\n",
      "    x5 : Size=1, Index=None\n",
      "        Key  : Lower : Value : Upper : Fixed : Stale : Domain\n",
      "        None :     0 : 379.0 :  None : False : False : NonNegativeIntegers\n",
      "    y1 : Size=1, Index=None\n",
      "        Key  : Lower : Value : Upper : Fixed : Stale : Domain\n",
      "        None :     0 :   0.0 :  None : False : False : NonNegativeIntegers\n",
      "    y2 : Size=1, Index=None\n",
      "        Key  : Lower : Value : Upper : Fixed : Stale : Domain\n",
      "        None :     0 :   1.0 :  None : False : False : NonNegativeIntegers\n",
      "    y3 : Size=1, Index=None\n",
      "        Key  : Lower : Value : Upper : Fixed : Stale : Domain\n",
      "        None :     0 :   0.0 :  None : False : False : NonNegativeIntegers\n",
      "    y4 : Size=1, Index=None\n",
      "        Key  : Lower : Value : Upper : Fixed : Stale : Domain\n",
      "        None :     0 :   0.0 :  None : False : False : NonNegativeIntegers\n",
      "    y5 : Size=1, Index=None\n",
      "        Key  : Lower : Value : Upper : Fixed : Stale : Domain\n",
      "        None :     0 :   1.0 :  None : False : False : NonNegativeIntegers\n",
      "\n",
      "1 Objective Declarations\n",
      "    obj : Size=1, Index=None, Active=True\n",
      "        Key  : Active : Sense    : Expression\n",
      "        None :   True : maximize : 15*x1 + 30*x2 + 40*x3 + 40*x4 + 75*x5 - 1500*y1 - 1200*y2 - 1600*y3 - 1500*y4 - 1600*y5\n",
      "\n",
      "7 Constraint Declarations\n",
      "    ct1 : Size=1, Index=None, Active=True\n",
      "        Key  : Lower : Body         : Upper : Active\n",
      "        None :  -Inf : x1 - 1500*y1 :   0.0 :   True\n",
      "    ct2 : Size=1, Index=None, Active=True\n",
      "        Key  : Lower : Body         : Upper : Active\n",
      "        None :  -Inf : x2 - 2250*y2 :   0.0 :   True\n",
      "    ct3 : Size=1, Index=None, Active=True\n",
      "        Key  : Lower : Body            : Upper : Active\n",
      "        None :  -Inf : x3 - 666.667*y3 :   0.0 :   True\n",
      "    ct4 : Size=1, Index=None, Active=True\n",
      "        Key  : Lower : Body         : Upper : Active\n",
      "        None :  -Inf : x4 - 1000*y4 :   0.0 :   True\n",
      "    ct5 : Size=1, Index=None, Active=True\n",
      "        Key  : Lower : Body        : Upper : Active\n",
      "        None :  -Inf : x5 - 500*y5 :   0.0 :   True\n",
      "    ct6 : Size=1, Index=None, Active=True\n",
      "        Key  : Lower : Body                           : Upper  : Active\n",
      "        None :  -Inf : 2*x1 + x2 + 6*x3 + 4*x4 + 8*x5 : 4000.0 :   True\n",
      "    ct7 : Size=1, Index=None, Active=True\n",
      "        Key  : Lower : Body                                   : Upper  : Active\n",
      "        None :  -Inf : 3*x1 + 2.5*x2 + 4*x3 + 4.5*x4 + 5.5*x5 : 4500.0 :   True\n",
      "\n",
      "18 Declarations: x1 x2 x3 x4 x5 y1 y2 y3 y4 y5 obj ct1 ct2 ct3 ct4 ct5 ct6 ct7\n"
     ]
    }
   ],
   "source": [
    "results = SolverFactory('glpk').solve(model)\n",
    "results.write()\n",
    "if results.solver.status == 'ok':\n",
    "    model.pprint()"
   ]
  },
  {
   "cell_type": "markdown",
   "id": "17b25823-c0eb-4cf8-877d-1d311e11383a",
   "metadata": {},
   "source": [
    "The results are:"
   ]
  },
  {
   "cell_type": "code",
   "execution_count": 10,
   "id": "51d22de6-1a77-4bc6-93d4-484685046629",
   "metadata": {},
   "outputs": [
    {
     "name": "stdout",
     "output_type": "stream",
     "text": [
      "Objective Function =  54605.0\n",
      "\n",
      "Decision Variables\n",
      "x1 =  0.0\n",
      "x2 =  966.0\n",
      "x3 =  0.0\n",
      "x4 =  0.0\n",
      "x5 =  379.0\n",
      "y1 =  0.0\n",
      "y2 =  1.0\n",
      "y3 =  0.0\n",
      "y4 =  0.0\n",
      "y5 =  1.0\n",
      "\n",
      "Constraints\n",
      "Constraint 1 =  0.0\n",
      "Constraint 2 =  -1284.0\n",
      "Constraint 3 =  0.0\n",
      "Constraint 4 =  0.0\n",
      "Constraint 5 =  -121.0\n",
      "Constraint 6 =  3998.0\n",
      "Constraint 7 =  4499.5\n"
     ]
    }
   ],
   "source": [
    "print('Objective Function = ', model.obj())\n",
    "\n",
    "print('\\nDecision Variables')\n",
    "print('x1 = ', model.x1())\n",
    "print('x2 = ', model.x2())\n",
    "print('x3 = ', model.x3())\n",
    "print('x4 = ', model.x4())\n",
    "print('x5 = ', model.x5())\n",
    "print('y1 = ', model.y1())\n",
    "print('y2 = ', model.y2())\n",
    "print('y3 = ', model.y3())\n",
    "print('y4 = ', model.y4())\n",
    "print('y5 = ', model.y5())\n",
    "\n",
    "print('\\nConstraints')\n",
    "print('Constraint 1 = ', model.ct1())\n",
    "print('Constraint 2 = ', model.ct2())\n",
    "print('Constraint 3 = ', model.ct3())\n",
    "print('Constraint 4 = ', model.ct4())\n",
    "print('Constraint 5 = ', model.ct5())\n",
    "print('Constraint 6 = ', model.ct6())\n",
    "print('Constraint 7 = ', model.ct7())\n"
   ]
  },
  {
   "cell_type": "code",
   "execution_count": null,
   "id": "4c5453ad-1ee2-423c-89c7-64ef14fcfcb2",
   "metadata": {},
   "outputs": [],
   "source": []
  }
 ],
 "metadata": {
  "kernelspec": {
   "display_name": "Python 3 (ipykernel)",
   "language": "python",
   "name": "python3"
  },
  "language_info": {
   "codemirror_mode": {
    "name": "ipython",
    "version": 3
   },
   "file_extension": ".py",
   "mimetype": "text/x-python",
   "name": "python",
   "nbconvert_exporter": "python",
   "pygments_lexer": "ipython3",
   "version": "3.8.10"
  }
 },
 "nbformat": 4,
 "nbformat_minor": 5
}
