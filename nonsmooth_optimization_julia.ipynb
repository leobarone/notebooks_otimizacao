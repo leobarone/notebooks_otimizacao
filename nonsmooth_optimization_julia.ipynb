{
 "cells": [
  {
   "cell_type": "code",
   "execution_count": null,
   "id": "1ca9bcd1-51e3-4499-a74d-90a24e084d4c",
   "metadata": {},
   "outputs": [],
   "source": [
    "using JuMP"
   ]
  },
  {
   "cell_type": "code",
   "execution_count": null,
   "id": "19602993-3dff-48dc-ab46-c0698007f852",
   "metadata": {},
   "outputs": [],
   "source": [
    "model = Model()\n"
   ]
  },
  {
   "cell_type": "code",
   "execution_count": null,
   "id": "d384c3cc-d740-4c60-951b-5fa575cfab31",
   "metadata": {},
   "outputs": [],
   "source": [
    "@variable(model, 1 <= x[1:5] <= 3, integer = true));\n",
    "@variable(model, 1 <= x[1:5] <= 3, integer = true));"
   ]
  },
  {
   "cell_type": "code",
   "execution_count": null,
   "id": "43cbe767-c960-4f76-a81f-0dcbcd5a7c7d",
   "metadata": {},
   "outputs": [],
   "source": [
    "@constraint(model, sum(x[i] for i in 1:31) <= 1);"
   ]
  }
 ],
 "metadata": {
  "kernelspec": {
   "display_name": "Julia 1.7.2",
   "language": "julia",
   "name": "julia-1.7"
  },
  "language_info": {
   "file_extension": ".jl",
   "mimetype": "application/julia",
   "name": "julia",
   "version": "1.7.2"
  }
 },
 "nbformat": 4,
 "nbformat_minor": 5
}
